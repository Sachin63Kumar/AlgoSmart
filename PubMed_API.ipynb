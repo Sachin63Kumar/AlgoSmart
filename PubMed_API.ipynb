{
  "nbformat": 4,
  "nbformat_minor": 0,
  "metadata": {
    "colab": {
      "provenance": [],
      "authorship_tag": "ABX9TyOzpniOwn+JD7qe4vNQLvou",
      "include_colab_link": true
    },
    "kernelspec": {
      "name": "python3",
      "display_name": "Python 3"
    },
    "language_info": {
      "name": "python"
    }
  },
  "cells": [
    {
      "cell_type": "markdown",
      "metadata": {
        "id": "view-in-github",
        "colab_type": "text"
      },
      "source": [
        "<a href=\"https://colab.research.google.com/github/Sachin63Kumar/AlgoSmart/blob/main/PubMed_API.ipynb\" target=\"_parent\"><img src=\"https://colab.research.google.com/assets/colab-badge.svg\" alt=\"Open In Colab\"/></a>"
      ]
    },
    {
      "cell_type": "code",
      "source": [
        "!pip install biopython"
      ],
      "metadata": {
        "colab": {
          "base_uri": "https://localhost:8080/"
        },
        "id": "kk9W_hvZ_Y9g",
        "outputId": "27e402f0-b587-408e-be75-9376fc6e5fad"
      },
      "execution_count": null,
      "outputs": [
        {
          "output_type": "stream",
          "name": "stdout",
          "text": [
            "Requirement already satisfied: biopython in /usr/local/lib/python3.11/dist-packages (1.85)\n",
            "Requirement already satisfied: numpy in /usr/local/lib/python3.11/dist-packages (from biopython) (1.26.4)\n"
          ]
        }
      ]
    },
    {
      "cell_type": "code",
      "source": [
        "import requests\n",
        "import csv\n",
        "from Bio import Entrez\n",
        "from typing import List, Dict, Optional\n"
      ],
      "metadata": {
        "id": "T0ufsvFsAeEI"
      },
      "execution_count": null,
      "outputs": []
    },
    {
      "cell_type": "code",
      "source": [
        "# Set your email for PubMed API access\n",
        "Entrez.email = \"sachinkumarrathore15@gmail.com\"\n"
      ],
      "metadata": {
        "id": "D7qoIl0iAf4I"
      },
      "execution_count": null,
      "outputs": []
    },
    {
      "cell_type": "code",
      "source": [
        "class PubMedFetcher:\n",
        "    def __init__(self, query: str):\n",
        "        self.query = query\n",
        "\n",
        "    def fetch_papers(self, max_results: int = 10) -> List[Dict[str, str]]:\n",
        "        \"\"\"Fetches papers from PubMed based on a query.\"\"\"\n",
        "        handle = Entrez.esearch(db=\"pubmed\", term=self.query, retmax=max_results)\n",
        "        record = Entrez.read(handle)\n",
        "        handle.close()\n",
        "        pmids = record[\"IdList\"]\n",
        "\n",
        "        papers = []\n",
        "        for pmid in pmids:\n",
        "            paper_data = self.fetch_paper_details(pmid)\n",
        "            if paper_data:\n",
        "                papers.append(paper_data)\n",
        "        return papers\n",
        "\n",
        "    def fetch_paper_details(self, pmid: str) -> Optional[Dict[str, str]]:\n",
        "        \"\"\"Fetch details of a paper using PubMed ID.\"\"\"\n",
        "        handle = Entrez.efetch(db=\"pubmed\", id=pmid, rettype=\"xml\", retmode=\"text\")\n",
        "        record = Entrez.read(handle)\n",
        "        handle.close()\n",
        "\n",
        "        paper_info = record[\"PubmedArticle\"][0][\"MedlineCitation\"]\n",
        "        title = paper_info[\"Article\"][\"ArticleTitle\"]\n",
        "        pub_date = paper_info[\"Article\"][\"Journal\"][\"JournalIssue\"][\"PubDate\"]\n",
        "        authors = paper_info.get(\"Article\", {}).get(\"AuthorList\", [])\n",
        "\n",
        "        non_academic_authors = []\n",
        "        company_affiliations = []\n",
        "        corresponding_email = None\n",
        "\n",
        "        for author in authors:\n",
        "            if \"AffiliationInfo\" in author:\n",
        "                affiliation = author[\"AffiliationInfo\"][0][\"Affiliation\"]\n",
        "                if self.is_non_academic(affiliation):\n",
        "                    non_academic_authors.append(author[\"LastName\"] + \" \" + author[\"ForeName\"])\n",
        "                    company_affiliations.append(affiliation)\n",
        "            if \"ElectronicAddress\" in author:\n",
        "                corresponding_email = author[\"ElectronicAddress\"]\n",
        "\n",
        "        if not non_academic_authors:\n",
        "            return None\n",
        "\n",
        "        return {\n",
        "            \"PubmedID\": pmid,\n",
        "            \"Title\": title,\n",
        "            \"Publication Date\": pub_date,\n",
        "            \"Non-academic Author(s)\": \", \".join(non_academic_authors),\n",
        "            \"Company Affiliation(s)\": \", \".join(company_affiliations),\n",
        "            \"Corresponding Author Email\": corresponding_email or \"N/A\",\n",
        "        }\n",
        "\n",
        "    def is_non_academic(self, affiliation: str) -> bool:\n",
        "        \"\"\"Identify non-academic institutions based on heuristics.\"\"\"\n",
        "        academic_keywords = [\"university\", \"college\", \"institute\", \"school\", \"lab\", \"research center\"]\n",
        "        return not any(keyword.lower() in affiliation.lower() for keyword in academic_keywords)\n"
      ],
      "metadata": {
        "id": "LzaBhpMRAl4w"
      },
      "execution_count": null,
      "outputs": []
    },
    {
      "cell_type": "code",
      "source": [
        "def save_to_csv(papers: List[Dict[str, str]], filename: str):\n",
        "    \"\"\"Save paper details to a CSV file.\"\"\"\n",
        "    keys = [\"PubmedID\", \"Title\", \"Publication Date\", \"Non-academic Author(s)\", \"Company Affiliation(s)\", \"Corresponding Author Email\"]\n",
        "    with open(filename, \"w\", newline=\"\", encoding=\"utf-8\") as file:\n",
        "        writer = csv.DictWriter(file, fieldnames=keys)\n",
        "        writer.writeheader()\n",
        "        writer.writerows(papers)\n"
      ],
      "metadata": {
        "id": "2DqWg1dcApp6"
      },
      "execution_count": null,
      "outputs": []
    },
    {
      "cell_type": "code",
      "source": [
        "def fetch_and_print_papers(query: str, debug: bool = False, save_to_file: str = None):\n",
        "    fetcher = PubMedFetcher(query)\n",
        "    papers = fetcher.fetch_papers()\n",
        "\n",
        "    if debug:\n",
        "        print(f\"Debug: Found {len(papers)} papers.\")\n",
        "\n",
        "    if not papers:\n",
        "        print(\"No relevant papers found.\")\n",
        "        return\n",
        "\n",
        "    if save_to_file:\n",
        "        save_to_csv(papers, save_to_file)\n",
        "        print(f\"Results saved to {save_to_file}\")\n",
        "    else:\n",
        "        for paper in papers:\n",
        "            print(paper)\n"
      ],
      "metadata": {
        "id": "hj7nsZS2Arv_"
      },
      "execution_count": null,
      "outputs": []
    },
    {
      "cell_type": "code",
      "source": [
        "# Fetch papers based on a search query and print or save them\n",
        "fetch_and_print_papers(query=\"pharmaceutical AND drug discovery\", debug=True, save_to_file=\"papers.csv\")\n"
      ],
      "metadata": {
        "colab": {
          "base_uri": "https://localhost:8080/"
        },
        "id": "Pwu7Cq0kAt2q",
        "outputId": "8f4ad265-5200-41d0-8814-47c6224ab94c"
      },
      "execution_count": null,
      "outputs": [
        {
          "output_type": "stream",
          "name": "stdout",
          "text": [
            "Debug: Found 2 papers.\n",
            "Results saved to papers.csv\n"
          ]
        }
      ]
    },
    {
      "cell_type": "code",
      "source": [
        "from google.colab import files\n",
        "files.download('papers.csv')\n"
      ],
      "metadata": {
        "colab": {
          "base_uri": "https://localhost:8080/",
          "height": 17
        },
        "id": "ahUjBUiZAv4m",
        "outputId": "a477569e-0b9d-40ec-d49c-40604f15b9da"
      },
      "execution_count": null,
      "outputs": [
        {
          "output_type": "display_data",
          "data": {
            "text/plain": [
              "<IPython.core.display.Javascript object>"
            ],
            "application/javascript": [
              "\n",
              "    async function download(id, filename, size) {\n",
              "      if (!google.colab.kernel.accessAllowed) {\n",
              "        return;\n",
              "      }\n",
              "      const div = document.createElement('div');\n",
              "      const label = document.createElement('label');\n",
              "      label.textContent = `Downloading \"${filename}\": `;\n",
              "      div.appendChild(label);\n",
              "      const progress = document.createElement('progress');\n",
              "      progress.max = size;\n",
              "      div.appendChild(progress);\n",
              "      document.body.appendChild(div);\n",
              "\n",
              "      const buffers = [];\n",
              "      let downloaded = 0;\n",
              "\n",
              "      const channel = await google.colab.kernel.comms.open(id);\n",
              "      // Send a message to notify the kernel that we're ready.\n",
              "      channel.send({})\n",
              "\n",
              "      for await (const message of channel.messages) {\n",
              "        // Send a message to notify the kernel that we're ready.\n",
              "        channel.send({})\n",
              "        if (message.buffers) {\n",
              "          for (const buffer of message.buffers) {\n",
              "            buffers.push(buffer);\n",
              "            downloaded += buffer.byteLength;\n",
              "            progress.value = downloaded;\n",
              "          }\n",
              "        }\n",
              "      }\n",
              "      const blob = new Blob(buffers, {type: 'application/binary'});\n",
              "      const a = document.createElement('a');\n",
              "      a.href = window.URL.createObjectURL(blob);\n",
              "      a.download = filename;\n",
              "      div.appendChild(a);\n",
              "      a.click();\n",
              "      div.remove();\n",
              "    }\n",
              "  "
            ]
          },
          "metadata": {}
        },
        {
          "output_type": "display_data",
          "data": {
            "text/plain": [
              "<IPython.core.display.Javascript object>"
            ],
            "application/javascript": [
              "download(\"download_67fd02a8-186b-4309-bd53-a2428bfa625b\", \"papers.csv\", 765)"
            ]
          },
          "metadata": {}
        }
      ]
    },
    {
      "cell_type": "code",
      "source": [],
      "metadata": {
        "id": "NS87lUD-A-7l"
      },
      "execution_count": null,
      "outputs": []
    }
  ]
}